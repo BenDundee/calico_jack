{
 "cells": [
  {
   "cell_type": "code",
   "execution_count": 2,
   "metadata": {
    "collapsed": false
   },
   "outputs": [],
   "source": [
    "import nfldb as nfl\n",
    "\n",
    "import sys\n",
    "sys.path.append(\"..\")\n",
    "\n",
    "from nfllib import GameEngine, PlayerStats"
   ]
  },
  {
   "cell_type": "code",
   "execution_count": 3,
   "metadata": {
    "collapsed": true
   },
   "outputs": [],
   "source": [
    "engine = GameEngine()"
   ]
  },
  {
   "cell_type": "code",
   "execution_count": 4,
   "metadata": {
    "collapsed": true
   },
   "outputs": [],
   "source": [
    "db = nfl.connect()"
   ]
  },
  {
   "cell_type": "code",
   "execution_count": 5,
   "metadata": {
    "collapsed": false
   },
   "outputs": [
    {
     "name": "stdout",
     "output_type": "stream",
     "text": [
      "00-0030564\n"
     ]
    }
   ],
   "source": [
    "q = nfl.Query(db)\n",
    "_ = q.player(full_name=\"DeAndre Hopkins\")\n",
    "for p in q.as_players():\n",
    "    print p.player_id"
   ]
  },
  {
   "cell_type": "code",
   "execution_count": 7,
   "metadata": {
    "collapsed": true
   },
   "outputs": [],
   "source": [
    "## 2015 season\n",
    "q = nfl.Query(db)\n",
    "_ = (q.game(season_year=2015, season_type=\"Regular\")\n",
    "         .player(player_id=\"00-0030564\")\n",
    "    )\n",
    "games = [g.gsis_id for g in q.as_games()]"
   ]
  },
  {
   "cell_type": "code",
   "execution_count": 9,
   "metadata": {
    "collapsed": true
   },
   "outputs": [],
   "source": [
    "scores = {\n",
    "    g: engine.score_game(g, \"00-0030564\")\n",
    "    for g in games\n",
    "}"
   ]
  },
  {
   "cell_type": "code",
   "execution_count": 10,
   "metadata": {
    "collapsed": false
   },
   "outputs": [
    {
     "data": {
      "text/plain": [
       "{'2015091306': {'00-0030564': 27.5},\n",
       " '2015092000': {'00-0030564': 7.5},\n",
       " '2015092703': {'00-0030564': 20.0},\n",
       " '2015100402': {'00-0030564': 19.5},\n",
       " '2015100800': {'00-0030564': 21.5},\n",
       " '2015101807': {'00-0030564': 31.0},\n",
       " '2015102502': {'00-0030564': 8.0},\n",
       " '2015110103': {'00-0030564': 19.0},\n",
       " '2015111600': {'00-0030564': 13.5},\n",
       " '2015112203': {'00-0030564': 25.5},\n",
       " '2015112903': {'00-0030564': 5.5},\n",
       " '2015120601': {'00-0030564': 16.5},\n",
       " '2015121303': {'00-0030564': 6.5},\n",
       " '2015122004': {'00-0030564': 13.0},\n",
       " '2015122703': {'00-0030564': 20.5},\n",
       " '2016010304': {'00-0030564': 11.5}}"
      ]
     },
     "execution_count": 10,
     "metadata": {},
     "output_type": "execute_result"
    }
   ],
   "source": [
    "scores"
   ]
  },
  {
   "cell_type": "code",
   "execution_count": 31,
   "metadata": {
    "collapsed": false
   },
   "outputs": [],
   "source": [
    "## Look at DeAndre Hopkins vs. Opponent. For each opponent, get average\n",
    "## of all receivers against them\n",
    "\n",
    "player_id = \"00-0030564\"\n",
    "player_team = \"HOU\"  # not independent but whatever...\n",
    "player_position = \"WR\"  # Again, not independent\n",
    "\n",
    "## Get all games this player was in\n",
    "q = nfl.Query(db)\n",
    "_ = (q.game(season_year=2015, season_type=\"Regular\")\n",
    "         .player(player_id=player_id)\n",
    "     )\n",
    "games = [g.gsis_id for g in q.as_games()]\n",
    "\n",
    "## get player's opponents. Ignore case where player is traded\n",
    "opponents = []\n",
    "\n",
    "q = nfl.Query(db)\n",
    "_ = q.game(team=\"HOU\", season_year=2015, season_type=\"Regular\")\n",
    "for g in q.as_games():\n",
    "    t = (g.home_team, g.away_team)\n",
    "    opponents.append(t[0] if t[0] != player_team else t[1])"
   ]
  },
  {
   "cell_type": "code",
   "execution_count": null,
   "metadata": {
    "collapsed": false
   },
   "outputs": [],
   "source": [
    "## For each opponent, get all opposing opponents, excluding player's team\n",
    "unique_opponents = set(opponents)\n",
    "vs_position = {}\n",
    "for o in unique_opponents:\n",
    "    vs_position[o] = {}\n",
    "    q = nfl.Query(db)\n",
    "    _ = q.game(season_year=2015, season_type=\"Regular\", team=o)\n",
    "    for g in q.as_games():\n",
    "        vs_position[o][g.gsis_id] = [\n",
    "            p[1].player_id for p in g.players \n",
    "            if p[0] != o and p[1].position == player_position\n",
    "        ]"
   ]
  },
  {
   "cell_type": "code",
   "execution_count": null,
   "metadata": {
    "collapsed": true
   },
   "outputs": [],
   "source": []
  }
 ],
 "metadata": {
  "kernelspec": {
   "display_name": "Python 2",
   "language": "python",
   "name": "python2"
  },
  "language_info": {
   "codemirror_mode": {
    "name": "ipython",
    "version": 2
   },
   "file_extension": ".py",
   "mimetype": "text/x-python",
   "name": "python",
   "nbconvert_exporter": "python",
   "pygments_lexer": "ipython2",
   "version": "2.7.12"
  }
 },
 "nbformat": 4,
 "nbformat_minor": 1
}
